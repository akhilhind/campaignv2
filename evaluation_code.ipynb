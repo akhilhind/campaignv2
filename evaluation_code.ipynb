{
 "cells": [
  {
   "cell_type": "code",
   "execution_count": 13,
   "id": "63511544",
   "metadata": {},
   "outputs": [],
   "source": [
    "from sklearn.neighbors import NearestNeighbors\n",
    "from sklearn.preprocessing import StandardScaler\n",
    "import pandas as pd\n",
    "import numpy as np\n",
    "import matplotlib.pyplot as plt\n",
    "import plotly.graph_objects as go"
   ]
  },
  {
   "cell_type": "markdown",
   "id": "358b2d4e",
   "metadata": {},
   "source": [
    "## Read files"
   ]
  },
  {
   "cell_type": "code",
   "execution_count": 14,
   "id": "fd7b403c-9965-4e94-84e7-34bab333a9a2",
   "metadata": {
    "tags": []
   },
   "outputs": [],
   "source": [
    "file = open(\"static/uploads/file.txt\",\"r\")\n",
    "content = file.readlines()\n",
    "test_control_file = content[0][:-1]\n",
    "performance_file = content[1][:-1]\n",
    "cost = int(content[2][:-1])\n",
    "period = int(content[3])\n",
    "file.close()"
   ]
  },
  {
   "cell_type": "code",
   "execution_count": 15,
   "id": "5856c9c5",
   "metadata": {},
   "outputs": [],
   "source": [
    "##T-C file####\n",
    "test_cnt=pd.read_csv('./static/uploads/{}'.format(test_control_file))\n",
    "###Performance file#####\n",
    "performance=pd.read_csv('./static/uploads/{}'.format(performance_file))"
   ]
  },
  {
   "cell_type": "code",
   "execution_count": 16,
   "id": "03052434",
   "metadata": {},
   "outputs": [
    {
     "data": {
      "text/html": [
       "<div>\n",
       "<style scoped>\n",
       "    .dataframe tbody tr th:only-of-type {\n",
       "        vertical-align: middle;\n",
       "    }\n",
       "\n",
       "    .dataframe tbody tr th {\n",
       "        vertical-align: top;\n",
       "    }\n",
       "\n",
       "    .dataframe thead th {\n",
       "        text-align: right;\n",
       "    }\n",
       "</style>\n",
       "<table border=\"1\" class=\"dataframe\">\n",
       "  <thead>\n",
       "    <tr style=\"text-align: right;\">\n",
       "      <th></th>\n",
       "      <th>test</th>\n",
       "      <th>control</th>\n",
       "    </tr>\n",
       "  </thead>\n",
       "  <tbody>\n",
       "    <tr>\n",
       "      <th>0</th>\n",
       "      <td>10001</td>\n",
       "      <td>12882</td>\n",
       "    </tr>\n",
       "    <tr>\n",
       "      <th>1</th>\n",
       "      <td>10002</td>\n",
       "      <td>13298</td>\n",
       "    </tr>\n",
       "    <tr>\n",
       "      <th>2</th>\n",
       "      <td>10003</td>\n",
       "      <td>14931</td>\n",
       "    </tr>\n",
       "    <tr>\n",
       "      <th>3</th>\n",
       "      <td>10004</td>\n",
       "      <td>12550</td>\n",
       "    </tr>\n",
       "    <tr>\n",
       "      <th>4</th>\n",
       "      <td>10005</td>\n",
       "      <td>11671</td>\n",
       "    </tr>\n",
       "  </tbody>\n",
       "</table>\n",
       "</div>"
      ],
      "text/plain": [
       "    test  control\n",
       "0  10001    12882\n",
       "1  10002    13298\n",
       "2  10003    14931\n",
       "3  10004    12550\n",
       "4  10005    11671"
      ]
     },
     "execution_count": 16,
     "metadata": {},
     "output_type": "execute_result"
    }
   ],
   "source": [
    "test_cnt.head()"
   ]
  },
  {
   "cell_type": "code",
   "execution_count": 17,
   "id": "915fd45e",
   "metadata": {},
   "outputs": [
    {
     "data": {
      "text/html": [
       "<div>\n",
       "<style scoped>\n",
       "    .dataframe tbody tr th:only-of-type {\n",
       "        vertical-align: middle;\n",
       "    }\n",
       "\n",
       "    .dataframe tbody tr th {\n",
       "        vertical-align: top;\n",
       "    }\n",
       "\n",
       "    .dataframe thead th {\n",
       "        text-align: right;\n",
       "    }\n",
       "</style>\n",
       "<table border=\"1\" class=\"dataframe\">\n",
       "  <thead>\n",
       "    <tr style=\"text-align: right;\">\n",
       "      <th></th>\n",
       "      <th>custid</th>\n",
       "      <th>flag</th>\n",
       "      <th>t-5</th>\n",
       "      <th>t-4</th>\n",
       "      <th>t-3</th>\n",
       "      <th>t-2</th>\n",
       "      <th>t-1</th>\n",
       "      <th>t</th>\n",
       "      <th>t+1</th>\n",
       "      <th>t+2</th>\n",
       "      <th>t+3</th>\n",
       "      <th>t+4</th>\n",
       "      <th>t+5</th>\n",
       "      <th>t+6</th>\n",
       "      <th>t+7</th>\n",
       "      <th>t+8</th>\n",
       "      <th>t+9</th>\n",
       "      <th>t+10</th>\n",
       "    </tr>\n",
       "  </thead>\n",
       "  <tbody>\n",
       "    <tr>\n",
       "      <th>0</th>\n",
       "      <td>10001</td>\n",
       "      <td>T</td>\n",
       "      <td>252.96</td>\n",
       "      <td>26.52</td>\n",
       "      <td>474.3</td>\n",
       "      <td>246.333333</td>\n",
       "      <td>240.862222</td>\n",
       "      <td>334.988889</td>\n",
       "      <td>283.901852</td>\n",
       "      <td>303.455103</td>\n",
       "      <td>323.985734</td>\n",
       "      <td>326.841399</td>\n",
       "      <td>352.926574</td>\n",
       "      <td>331.876685</td>\n",
       "      <td>318.414477</td>\n",
       "      <td>308.026467</td>\n",
       "      <td>301.865938</td>\n",
       "      <td>295.828619</td>\n",
       "    </tr>\n",
       "    <tr>\n",
       "      <th>1</th>\n",
       "      <td>10002</td>\n",
       "      <td>T</td>\n",
       "      <td>228.00</td>\n",
       "      <td>41.41</td>\n",
       "      <td>311.0</td>\n",
       "      <td>193.333333</td>\n",
       "      <td>185.413333</td>\n",
       "      <td>235.564815</td>\n",
       "      <td>215.360617</td>\n",
       "      <td>222.270288</td>\n",
       "      <td>234.540412</td>\n",
       "      <td>238.374961</td>\n",
       "      <td>248.284408</td>\n",
       "      <td>239.083849</td>\n",
       "      <td>229.510381</td>\n",
       "      <td>227.908553</td>\n",
       "      <td>223.350382</td>\n",
       "      <td>218.883375</td>\n",
       "    </tr>\n",
       "    <tr>\n",
       "      <th>2</th>\n",
       "      <td>10003</td>\n",
       "      <td>T</td>\n",
       "      <td>240.10</td>\n",
       "      <td>200.99</td>\n",
       "      <td>161.7</td>\n",
       "      <td>200.970000</td>\n",
       "      <td>187.110000</td>\n",
       "      <td>191.236667</td>\n",
       "      <td>202.183333</td>\n",
       "      <td>206.090741</td>\n",
       "      <td>206.117654</td>\n",
       "      <td>213.071934</td>\n",
       "      <td>227.366255</td>\n",
       "      <td>227.525377</td>\n",
       "      <td>210.648089</td>\n",
       "      <td>206.681953</td>\n",
       "      <td>202.548314</td>\n",
       "      <td>198.497348</td>\n",
       "    </tr>\n",
       "    <tr>\n",
       "      <th>3</th>\n",
       "      <td>10004</td>\n",
       "      <td>T</td>\n",
       "      <td>465.61</td>\n",
       "      <td>343.74</td>\n",
       "      <td>311.1</td>\n",
       "      <td>367.666667</td>\n",
       "      <td>333.190000</td>\n",
       "      <td>346.499630</td>\n",
       "      <td>371.157901</td>\n",
       "      <td>367.142222</td>\n",
       "      <td>382.006036</td>\n",
       "      <td>387.175615</td>\n",
       "      <td>423.111398</td>\n",
       "      <td>403.138730</td>\n",
       "      <td>389.688156</td>\n",
       "      <td>372.305333</td>\n",
       "      <td>364.859226</td>\n",
       "      <td>357.562042</td>\n",
       "    </tr>\n",
       "    <tr>\n",
       "      <th>4</th>\n",
       "      <td>10005</td>\n",
       "      <td>T</td>\n",
       "      <td>228.48</td>\n",
       "      <td>216.00</td>\n",
       "      <td>210.7</td>\n",
       "      <td>218.333333</td>\n",
       "      <td>220.773333</td>\n",
       "      <td>225.256296</td>\n",
       "      <td>232.322099</td>\n",
       "      <td>234.057778</td>\n",
       "      <td>238.493279</td>\n",
       "      <td>258.093425</td>\n",
       "      <td>260.166987</td>\n",
       "      <td>255.864562</td>\n",
       "      <td>249.368081</td>\n",
       "      <td>232.005249</td>\n",
       "      <td>227.365144</td>\n",
       "      <td>222.817841</td>\n",
       "    </tr>\n",
       "  </tbody>\n",
       "</table>\n",
       "</div>"
      ],
      "text/plain": [
       "   custid flag     t-5     t-4    t-3         t-2         t-1           t  \\\n",
       "0   10001    T  252.96   26.52  474.3  246.333333  240.862222  334.988889   \n",
       "1   10002    T  228.00   41.41  311.0  193.333333  185.413333  235.564815   \n",
       "2   10003    T  240.10  200.99  161.7  200.970000  187.110000  191.236667   \n",
       "3   10004    T  465.61  343.74  311.1  367.666667  333.190000  346.499630   \n",
       "4   10005    T  228.48  216.00  210.7  218.333333  220.773333  225.256296   \n",
       "\n",
       "          t+1         t+2         t+3         t+4         t+5         t+6  \\\n",
       "0  283.901852  303.455103  323.985734  326.841399  352.926574  331.876685   \n",
       "1  215.360617  222.270288  234.540412  238.374961  248.284408  239.083849   \n",
       "2  202.183333  206.090741  206.117654  213.071934  227.366255  227.525377   \n",
       "3  371.157901  367.142222  382.006036  387.175615  423.111398  403.138730   \n",
       "4  232.322099  234.057778  238.493279  258.093425  260.166987  255.864562   \n",
       "\n",
       "          t+7         t+8         t+9        t+10  \n",
       "0  318.414477  308.026467  301.865938  295.828619  \n",
       "1  229.510381  227.908553  223.350382  218.883375  \n",
       "2  210.648089  206.681953  202.548314  198.497348  \n",
       "3  389.688156  372.305333  364.859226  357.562042  \n",
       "4  249.368081  232.005249  227.365144  222.817841  "
      ]
     },
     "execution_count": 17,
     "metadata": {},
     "output_type": "execute_result"
    }
   ],
   "source": [
    "performance.head()"
   ]
  },
  {
   "cell_type": "markdown",
   "id": "80f0a00d",
   "metadata": {},
   "source": [
    "## Aggregating the data"
   ]
  },
  {
   "cell_type": "code",
   "execution_count": 18,
   "id": "20e011bb",
   "metadata": {},
   "outputs": [],
   "source": [
    "df1=performance.copy()\n",
    "df1.drop(['custid'],axis=1,inplace=True)"
   ]
  },
  {
   "cell_type": "code",
   "execution_count": 19,
   "id": "737ae329",
   "metadata": {},
   "outputs": [
    {
     "data": {
      "text/html": [
       "<div>\n",
       "<style scoped>\n",
       "    .dataframe tbody tr th:only-of-type {\n",
       "        vertical-align: middle;\n",
       "    }\n",
       "\n",
       "    .dataframe tbody tr th {\n",
       "        vertical-align: top;\n",
       "    }\n",
       "\n",
       "    .dataframe thead th {\n",
       "        text-align: right;\n",
       "    }\n",
       "</style>\n",
       "<table border=\"1\" class=\"dataframe\">\n",
       "  <thead>\n",
       "    <tr style=\"text-align: right;\">\n",
       "      <th></th>\n",
       "      <th>flag</th>\n",
       "      <th>t-5</th>\n",
       "      <th>t-4</th>\n",
       "      <th>t-3</th>\n",
       "      <th>t-2</th>\n",
       "      <th>t-1</th>\n",
       "      <th>t</th>\n",
       "      <th>t+1</th>\n",
       "      <th>t+2</th>\n",
       "      <th>t+3</th>\n",
       "      <th>t+4</th>\n",
       "      <th>t+5</th>\n",
       "      <th>t+6</th>\n",
       "      <th>t+7</th>\n",
       "      <th>t+8</th>\n",
       "      <th>t+9</th>\n",
       "      <th>t+10</th>\n",
       "    </tr>\n",
       "  </thead>\n",
       "  <tbody>\n",
       "    <tr>\n",
       "      <th>0</th>\n",
       "      <td>T</td>\n",
       "      <td>252.96</td>\n",
       "      <td>26.52</td>\n",
       "      <td>474.3</td>\n",
       "      <td>246.333333</td>\n",
       "      <td>240.862222</td>\n",
       "      <td>334.988889</td>\n",
       "      <td>283.901852</td>\n",
       "      <td>303.455103</td>\n",
       "      <td>323.985734</td>\n",
       "      <td>326.841399</td>\n",
       "      <td>352.926574</td>\n",
       "      <td>331.876685</td>\n",
       "      <td>318.414477</td>\n",
       "      <td>308.026467</td>\n",
       "      <td>301.865938</td>\n",
       "      <td>295.828619</td>\n",
       "    </tr>\n",
       "    <tr>\n",
       "      <th>1</th>\n",
       "      <td>T</td>\n",
       "      <td>228.00</td>\n",
       "      <td>41.41</td>\n",
       "      <td>311.0</td>\n",
       "      <td>193.333333</td>\n",
       "      <td>185.413333</td>\n",
       "      <td>235.564815</td>\n",
       "      <td>215.360617</td>\n",
       "      <td>222.270288</td>\n",
       "      <td>234.540412</td>\n",
       "      <td>238.374961</td>\n",
       "      <td>248.284408</td>\n",
       "      <td>239.083849</td>\n",
       "      <td>229.510381</td>\n",
       "      <td>227.908553</td>\n",
       "      <td>223.350382</td>\n",
       "      <td>218.883375</td>\n",
       "    </tr>\n",
       "    <tr>\n",
       "      <th>2</th>\n",
       "      <td>T</td>\n",
       "      <td>240.10</td>\n",
       "      <td>200.99</td>\n",
       "      <td>161.7</td>\n",
       "      <td>200.970000</td>\n",
       "      <td>187.110000</td>\n",
       "      <td>191.236667</td>\n",
       "      <td>202.183333</td>\n",
       "      <td>206.090741</td>\n",
       "      <td>206.117654</td>\n",
       "      <td>213.071934</td>\n",
       "      <td>227.366255</td>\n",
       "      <td>227.525377</td>\n",
       "      <td>210.648089</td>\n",
       "      <td>206.681953</td>\n",
       "      <td>202.548314</td>\n",
       "      <td>198.497348</td>\n",
       "    </tr>\n",
       "    <tr>\n",
       "      <th>3</th>\n",
       "      <td>T</td>\n",
       "      <td>465.61</td>\n",
       "      <td>343.74</td>\n",
       "      <td>311.1</td>\n",
       "      <td>367.666667</td>\n",
       "      <td>333.190000</td>\n",
       "      <td>346.499630</td>\n",
       "      <td>371.157901</td>\n",
       "      <td>367.142222</td>\n",
       "      <td>382.006036</td>\n",
       "      <td>387.175615</td>\n",
       "      <td>423.111398</td>\n",
       "      <td>403.138730</td>\n",
       "      <td>389.688156</td>\n",
       "      <td>372.305333</td>\n",
       "      <td>364.859226</td>\n",
       "      <td>357.562042</td>\n",
       "    </tr>\n",
       "    <tr>\n",
       "      <th>4</th>\n",
       "      <td>T</td>\n",
       "      <td>228.48</td>\n",
       "      <td>216.00</td>\n",
       "      <td>210.7</td>\n",
       "      <td>218.333333</td>\n",
       "      <td>220.773333</td>\n",
       "      <td>225.256296</td>\n",
       "      <td>232.322099</td>\n",
       "      <td>234.057778</td>\n",
       "      <td>238.493279</td>\n",
       "      <td>258.093425</td>\n",
       "      <td>260.166987</td>\n",
       "      <td>255.864562</td>\n",
       "      <td>249.368081</td>\n",
       "      <td>232.005249</td>\n",
       "      <td>227.365144</td>\n",
       "      <td>222.817841</td>\n",
       "    </tr>\n",
       "  </tbody>\n",
       "</table>\n",
       "</div>"
      ],
      "text/plain": [
       "  flag     t-5     t-4    t-3         t-2         t-1           t         t+1  \\\n",
       "0    T  252.96   26.52  474.3  246.333333  240.862222  334.988889  283.901852   \n",
       "1    T  228.00   41.41  311.0  193.333333  185.413333  235.564815  215.360617   \n",
       "2    T  240.10  200.99  161.7  200.970000  187.110000  191.236667  202.183333   \n",
       "3    T  465.61  343.74  311.1  367.666667  333.190000  346.499630  371.157901   \n",
       "4    T  228.48  216.00  210.7  218.333333  220.773333  225.256296  232.322099   \n",
       "\n",
       "          t+2         t+3         t+4         t+5         t+6         t+7  \\\n",
       "0  303.455103  323.985734  326.841399  352.926574  331.876685  318.414477   \n",
       "1  222.270288  234.540412  238.374961  248.284408  239.083849  229.510381   \n",
       "2  206.090741  206.117654  213.071934  227.366255  227.525377  210.648089   \n",
       "3  367.142222  382.006036  387.175615  423.111398  403.138730  389.688156   \n",
       "4  234.057778  238.493279  258.093425  260.166987  255.864562  249.368081   \n",
       "\n",
       "          t+8         t+9        t+10  \n",
       "0  308.026467  301.865938  295.828619  \n",
       "1  227.908553  223.350382  218.883375  \n",
       "2  206.681953  202.548314  198.497348  \n",
       "3  372.305333  364.859226  357.562042  \n",
       "4  232.005249  227.365144  222.817841  "
      ]
     },
     "execution_count": 19,
     "metadata": {},
     "output_type": "execute_result"
    }
   ],
   "source": [
    "df1.head()"
   ]
  },
  {
   "cell_type": "code",
   "execution_count": 20,
   "id": "e1be1694",
   "metadata": {},
   "outputs": [],
   "source": [
    "df2 = df1.groupby(['flag']).mean()"
   ]
  },
  {
   "cell_type": "code",
   "execution_count": 21,
   "id": "d889c2c6",
   "metadata": {},
   "outputs": [
    {
     "data": {
      "text/html": [
       "<div>\n",
       "<style scoped>\n",
       "    .dataframe tbody tr th:only-of-type {\n",
       "        vertical-align: middle;\n",
       "    }\n",
       "\n",
       "    .dataframe tbody tr th {\n",
       "        vertical-align: top;\n",
       "    }\n",
       "\n",
       "    .dataframe thead th {\n",
       "        text-align: right;\n",
       "    }\n",
       "</style>\n",
       "<table border=\"1\" class=\"dataframe\">\n",
       "  <thead>\n",
       "    <tr style=\"text-align: right;\">\n",
       "      <th></th>\n",
       "      <th>t-5</th>\n",
       "      <th>t-4</th>\n",
       "      <th>t-3</th>\n",
       "      <th>t-2</th>\n",
       "      <th>t-1</th>\n",
       "      <th>t</th>\n",
       "      <th>t+1</th>\n",
       "      <th>t+2</th>\n",
       "      <th>t+3</th>\n",
       "      <th>t+4</th>\n",
       "      <th>t+5</th>\n",
       "      <th>t+6</th>\n",
       "      <th>t+7</th>\n",
       "      <th>t+8</th>\n",
       "      <th>t+9</th>\n",
       "      <th>t+10</th>\n",
       "    </tr>\n",
       "    <tr>\n",
       "      <th>flag</th>\n",
       "      <th></th>\n",
       "      <th></th>\n",
       "      <th></th>\n",
       "      <th></th>\n",
       "      <th></th>\n",
       "      <th></th>\n",
       "      <th></th>\n",
       "      <th></th>\n",
       "      <th></th>\n",
       "      <th></th>\n",
       "      <th></th>\n",
       "      <th></th>\n",
       "      <th></th>\n",
       "      <th></th>\n",
       "      <th></th>\n",
       "      <th></th>\n",
       "    </tr>\n",
       "  </thead>\n",
       "  <tbody>\n",
       "    <tr>\n",
       "      <th>C</th>\n",
       "      <td>251.24500</td>\n",
       "      <td>252.16600</td>\n",
       "      <td>248.39500</td>\n",
       "      <td>250.6020</td>\n",
       "      <td>250.387667</td>\n",
       "      <td>249.794889</td>\n",
       "      <td>250.261519</td>\n",
       "      <td>250.148025</td>\n",
       "      <td>250.068144</td>\n",
       "      <td>250.159229</td>\n",
       "      <td>250.125133</td>\n",
       "      <td>250.117502</td>\n",
       "      <td>250.133955</td>\n",
       "      <td>250.12553</td>\n",
       "      <td>250.125662</td>\n",
       "      <td>250.128382</td>\n",
       "    </tr>\n",
       "    <tr>\n",
       "      <th>T</th>\n",
       "      <td>251.17558</td>\n",
       "      <td>252.23162</td>\n",
       "      <td>248.49662</td>\n",
       "      <td>250.5848</td>\n",
       "      <td>250.193966</td>\n",
       "      <td>259.706772</td>\n",
       "      <td>265.228411</td>\n",
       "      <td>270.207933</td>\n",
       "      <td>276.250820</td>\n",
       "      <td>290.344209</td>\n",
       "      <td>306.241806</td>\n",
       "      <td>294.125322</td>\n",
       "      <td>281.065874</td>\n",
       "      <td>271.25697</td>\n",
       "      <td>265.831831</td>\n",
       "      <td>260.515194</td>\n",
       "    </tr>\n",
       "  </tbody>\n",
       "</table>\n",
       "</div>"
      ],
      "text/plain": [
       "            t-5        t-4        t-3       t-2         t-1           t  \\\n",
       "flag                                                                      \n",
       "C     251.24500  252.16600  248.39500  250.6020  250.387667  249.794889   \n",
       "T     251.17558  252.23162  248.49662  250.5848  250.193966  259.706772   \n",
       "\n",
       "             t+1         t+2         t+3         t+4         t+5         t+6  \\\n",
       "flag                                                                           \n",
       "C     250.261519  250.148025  250.068144  250.159229  250.125133  250.117502   \n",
       "T     265.228411  270.207933  276.250820  290.344209  306.241806  294.125322   \n",
       "\n",
       "             t+7        t+8         t+9        t+10  \n",
       "flag                                                 \n",
       "C     250.133955  250.12553  250.125662  250.128382  \n",
       "T     281.065874  271.25697  265.831831  260.515194  "
      ]
     },
     "execution_count": 21,
     "metadata": {},
     "output_type": "execute_result"
    }
   ],
   "source": [
    "df2"
   ]
  },
  {
   "cell_type": "markdown",
   "id": "ae9a6cf4",
   "metadata": {},
   "source": [
    "## Transpose"
   ]
  },
  {
   "cell_type": "code",
   "execution_count": 33,
   "id": "b4c4811b",
   "metadata": {},
   "outputs": [
    {
     "data": {
      "text/html": [
       "<div>\n",
       "<style scoped>\n",
       "    .dataframe tbody tr th:only-of-type {\n",
       "        vertical-align: middle;\n",
       "    }\n",
       "\n",
       "    .dataframe tbody tr th {\n",
       "        vertical-align: top;\n",
       "    }\n",
       "\n",
       "    .dataframe thead th {\n",
       "        text-align: right;\n",
       "    }\n",
       "</style>\n",
       "<table border=\"1\" class=\"dataframe\">\n",
       "  <thead>\n",
       "    <tr style=\"text-align: right;\">\n",
       "      <th>flag</th>\n",
       "      <th>C</th>\n",
       "      <th>T</th>\n",
       "      <th>Time(Week)</th>\n",
       "    </tr>\n",
       "  </thead>\n",
       "  <tbody>\n",
       "    <tr>\n",
       "      <th>t-5</th>\n",
       "      <td>251.245000</td>\n",
       "      <td>251.175580</td>\n",
       "      <td>t-5</td>\n",
       "    </tr>\n",
       "    <tr>\n",
       "      <th>t-4</th>\n",
       "      <td>252.166000</td>\n",
       "      <td>252.231620</td>\n",
       "      <td>t-4</td>\n",
       "    </tr>\n",
       "    <tr>\n",
       "      <th>t-3</th>\n",
       "      <td>248.395000</td>\n",
       "      <td>248.496620</td>\n",
       "      <td>t-3</td>\n",
       "    </tr>\n",
       "    <tr>\n",
       "      <th>t-2</th>\n",
       "      <td>250.602000</td>\n",
       "      <td>250.584800</td>\n",
       "      <td>t-2</td>\n",
       "    </tr>\n",
       "    <tr>\n",
       "      <th>t-1</th>\n",
       "      <td>250.387667</td>\n",
       "      <td>250.193966</td>\n",
       "      <td>t-1</td>\n",
       "    </tr>\n",
       "    <tr>\n",
       "      <th>t</th>\n",
       "      <td>249.794889</td>\n",
       "      <td>259.706772</td>\n",
       "      <td>t</td>\n",
       "    </tr>\n",
       "    <tr>\n",
       "      <th>t+1</th>\n",
       "      <td>250.261519</td>\n",
       "      <td>265.228411</td>\n",
       "      <td>t+1</td>\n",
       "    </tr>\n",
       "    <tr>\n",
       "      <th>t+2</th>\n",
       "      <td>250.148025</td>\n",
       "      <td>270.207933</td>\n",
       "      <td>t+2</td>\n",
       "    </tr>\n",
       "    <tr>\n",
       "      <th>t+3</th>\n",
       "      <td>250.068144</td>\n",
       "      <td>276.250820</td>\n",
       "      <td>t+3</td>\n",
       "    </tr>\n",
       "    <tr>\n",
       "      <th>t+4</th>\n",
       "      <td>250.159229</td>\n",
       "      <td>290.344209</td>\n",
       "      <td>t+4</td>\n",
       "    </tr>\n",
       "    <tr>\n",
       "      <th>t+5</th>\n",
       "      <td>250.125133</td>\n",
       "      <td>306.241806</td>\n",
       "      <td>t+5</td>\n",
       "    </tr>\n",
       "    <tr>\n",
       "      <th>t+6</th>\n",
       "      <td>250.117502</td>\n",
       "      <td>294.125322</td>\n",
       "      <td>t+6</td>\n",
       "    </tr>\n",
       "    <tr>\n",
       "      <th>t+7</th>\n",
       "      <td>250.133955</td>\n",
       "      <td>281.065874</td>\n",
       "      <td>t+7</td>\n",
       "    </tr>\n",
       "    <tr>\n",
       "      <th>t+8</th>\n",
       "      <td>250.125530</td>\n",
       "      <td>271.256970</td>\n",
       "      <td>t+8</td>\n",
       "    </tr>\n",
       "    <tr>\n",
       "      <th>t+9</th>\n",
       "      <td>250.125662</td>\n",
       "      <td>265.831831</td>\n",
       "      <td>t+9</td>\n",
       "    </tr>\n",
       "    <tr>\n",
       "      <th>t+10</th>\n",
       "      <td>250.128382</td>\n",
       "      <td>260.515194</td>\n",
       "      <td>t+10</td>\n",
       "    </tr>\n",
       "  </tbody>\n",
       "</table>\n",
       "</div>"
      ],
      "text/plain": [
       "flag           C           T Time(Week)\n",
       "t-5   251.245000  251.175580        t-5\n",
       "t-4   252.166000  252.231620        t-4\n",
       "t-3   248.395000  248.496620        t-3\n",
       "t-2   250.602000  250.584800        t-2\n",
       "t-1   250.387667  250.193966        t-1\n",
       "t     249.794889  259.706772          t\n",
       "t+1   250.261519  265.228411        t+1\n",
       "t+2   250.148025  270.207933        t+2\n",
       "t+3   250.068144  276.250820        t+3\n",
       "t+4   250.159229  290.344209        t+4\n",
       "t+5   250.125133  306.241806        t+5\n",
       "t+6   250.117502  294.125322        t+6\n",
       "t+7   250.133955  281.065874        t+7\n",
       "t+8   250.125530  271.256970        t+8\n",
       "t+9   250.125662  265.831831        t+9\n",
       "t+10  250.128382  260.515194       t+10"
      ]
     },
     "execution_count": 33,
     "metadata": {},
     "output_type": "execute_result"
    }
   ],
   "source": [
    "df3=df2.T\n",
    "df3['Time(Week)']=df3.index\n",
    "df3"
   ]
  },
  {
   "cell_type": "code",
   "execution_count": 45,
   "id": "c6504f2a",
   "metadata": {},
   "outputs": [
    {
     "data": {
      "text/html": [
       "<div>\n",
       "<style scoped>\n",
       "    .dataframe tbody tr th:only-of-type {\n",
       "        vertical-align: middle;\n",
       "    }\n",
       "\n",
       "    .dataframe tbody tr th {\n",
       "        vertical-align: top;\n",
       "    }\n",
       "\n",
       "    .dataframe thead th {\n",
       "        text-align: right;\n",
       "    }\n",
       "</style>\n",
       "<table border=\"1\" class=\"dataframe\">\n",
       "  <thead>\n",
       "    <tr style=\"text-align: right;\">\n",
       "      <th>flag</th>\n",
       "      <th>C</th>\n",
       "      <th>T</th>\n",
       "      <th>Time(Week)</th>\n",
       "    </tr>\n",
       "  </thead>\n",
       "  <tbody>\n",
       "    <tr>\n",
       "      <th>t-5</th>\n",
       "      <td>251.245000</td>\n",
       "      <td>251.175580</td>\n",
       "      <td>t-5</td>\n",
       "    </tr>\n",
       "    <tr>\n",
       "      <th>t-4</th>\n",
       "      <td>252.166000</td>\n",
       "      <td>252.231620</td>\n",
       "      <td>t-4</td>\n",
       "    </tr>\n",
       "    <tr>\n",
       "      <th>t-3</th>\n",
       "      <td>248.395000</td>\n",
       "      <td>248.496620</td>\n",
       "      <td>t-3</td>\n",
       "    </tr>\n",
       "    <tr>\n",
       "      <th>t-2</th>\n",
       "      <td>250.602000</td>\n",
       "      <td>250.584800</td>\n",
       "      <td>t-2</td>\n",
       "    </tr>\n",
       "    <tr>\n",
       "      <th>t-1</th>\n",
       "      <td>250.387667</td>\n",
       "      <td>250.193966</td>\n",
       "      <td>t-1</td>\n",
       "    </tr>\n",
       "    <tr>\n",
       "      <th>t</th>\n",
       "      <td>249.794889</td>\n",
       "      <td>259.706772</td>\n",
       "      <td>t</td>\n",
       "    </tr>\n",
       "    <tr>\n",
       "      <th>t+1</th>\n",
       "      <td>250.261519</td>\n",
       "      <td>265.228411</td>\n",
       "      <td>t+1</td>\n",
       "    </tr>\n",
       "    <tr>\n",
       "      <th>t+2</th>\n",
       "      <td>250.148025</td>\n",
       "      <td>270.207933</td>\n",
       "      <td>t+2</td>\n",
       "    </tr>\n",
       "    <tr>\n",
       "      <th>t+3</th>\n",
       "      <td>250.068144</td>\n",
       "      <td>276.250820</td>\n",
       "      <td>t+3</td>\n",
       "    </tr>\n",
       "    <tr>\n",
       "      <th>t+4</th>\n",
       "      <td>250.159229</td>\n",
       "      <td>290.344209</td>\n",
       "      <td>t+4</td>\n",
       "    </tr>\n",
       "    <tr>\n",
       "      <th>t+5</th>\n",
       "      <td>250.125133</td>\n",
       "      <td>306.241806</td>\n",
       "      <td>t+5</td>\n",
       "    </tr>\n",
       "    <tr>\n",
       "      <th>t+6</th>\n",
       "      <td>250.117502</td>\n",
       "      <td>294.125322</td>\n",
       "      <td>t+6</td>\n",
       "    </tr>\n",
       "    <tr>\n",
       "      <th>t+7</th>\n",
       "      <td>250.133955</td>\n",
       "      <td>281.065874</td>\n",
       "      <td>t+7</td>\n",
       "    </tr>\n",
       "    <tr>\n",
       "      <th>t+8</th>\n",
       "      <td>250.125530</td>\n",
       "      <td>271.256970</td>\n",
       "      <td>t+8</td>\n",
       "    </tr>\n",
       "    <tr>\n",
       "      <th>t+9</th>\n",
       "      <td>250.125662</td>\n",
       "      <td>265.831831</td>\n",
       "      <td>t+9</td>\n",
       "    </tr>\n",
       "    <tr>\n",
       "      <th>t+10</th>\n",
       "      <td>250.128382</td>\n",
       "      <td>260.515194</td>\n",
       "      <td>t+10</td>\n",
       "    </tr>\n",
       "  </tbody>\n",
       "</table>\n",
       "</div>"
      ],
      "text/plain": [
       "flag           C           T Time(Week)\n",
       "t-5   251.245000  251.175580        t-5\n",
       "t-4   252.166000  252.231620        t-4\n",
       "t-3   248.395000  248.496620        t-3\n",
       "t-2   250.602000  250.584800        t-2\n",
       "t-1   250.387667  250.193966        t-1\n",
       "t     249.794889  259.706772          t\n",
       "t+1   250.261519  265.228411        t+1\n",
       "t+2   250.148025  270.207933        t+2\n",
       "t+3   250.068144  276.250820        t+3\n",
       "t+4   250.159229  290.344209        t+4\n",
       "t+5   250.125133  306.241806        t+5\n",
       "t+6   250.117502  294.125322        t+6\n",
       "t+7   250.133955  281.065874        t+7\n",
       "t+8   250.125530  271.256970        t+8\n",
       "t+9   250.125662  265.831831        t+9\n",
       "t+10  250.128382  260.515194       t+10"
      ]
     },
     "execution_count": 45,
     "metadata": {},
     "output_type": "execute_result"
    }
   ],
   "source": [
    "df3"
   ]
  },
  {
   "cell_type": "markdown",
   "id": "d1fd029c",
   "metadata": {},
   "source": [
    "## Plot"
   ]
  },
  {
   "cell_type": "code",
   "execution_count": 44,
   "id": "b3219b0c",
   "metadata": {},
   "outputs": [
    {
     "data": {
      "application/vnd.plotly.v1+json": {
       "config": {
        "plotlyServerURL": "https://plot.ly"
       },
       "data": [
        {
         "hovertemplate": "variable=C<br>Time(Week)=%{x}<br>value=%{y}<extra></extra>",
         "legendgroup": "C",
         "line": {
          "color": "#636efa",
          "dash": "solid"
         },
         "marker": {
          "symbol": "circle"
         },
         "mode": "lines",
         "name": "C",
         "orientation": "v",
         "showlegend": true,
         "type": "scatter",
         "x": [
          "t-5",
          "t-4",
          "t-3",
          "t-2",
          "t-1",
          "t",
          "t+1",
          "t+2",
          "t+3",
          "t+4",
          "t+5",
          "t+6",
          "t+7",
          "t+8",
          "t+9",
          "t+10"
         ],
         "xaxis": "x",
         "y": [
          251.245,
          252.166,
          248.395,
          250.602,
          250.38766666769,
          249.79488888958,
          250.26151851863,
          250.14802469294,
          250.06814403152,
          250.15922908028,
          250.12513260204,
          250.11750190542,
          250.13395452912002,
          250.12552967923,
          250.12566203669,
          250.1283820797
         ],
         "yaxis": "y"
        },
        {
         "hovertemplate": "variable=T<br>Time(Week)=%{x}<br>value=%{y}<extra></extra>",
         "legendgroup": "T",
         "line": {
          "color": "#EF553B",
          "dash": "solid"
         },
         "marker": {
          "symbol": "circle"
         },
         "mode": "lines",
         "name": "T",
         "orientation": "v",
         "showlegend": true,
         "type": "scatter",
         "x": [
          "t-5",
          "t-4",
          "t-3",
          "t-2",
          "t-1",
          "t",
          "t+1",
          "t+2",
          "t+3",
          "t+4",
          "t+5",
          "t+6",
          "t+7",
          "t+8",
          "t+9",
          "t+10"
         ],
         "xaxis": "x",
         "y": [
          251.17558,
          252.23162,
          248.49662,
          250.58479999870002,
          250.19396555604,
          259.70677185223997,
          265.2284114811,
          270.20793304715005,
          276.25081961404004,
          290.34420935445,
          306.24180626806,
          294.12532154427,
          281.06587419873,
          271.25696997619,
          265.83183057796,
          260.51519396443
         ],
         "yaxis": "y"
        }
       ],
       "layout": {
        "autosize": true,
        "legend": {
         "title": {
          "text": "variable"
         },
         "tracegroupgap": 0
        },
        "template": {
         "data": {
          "bar": [
           {
            "error_x": {
             "color": "#2a3f5f"
            },
            "error_y": {
             "color": "#2a3f5f"
            },
            "marker": {
             "line": {
              "color": "#E5ECF6",
              "width": 0.5
             },
             "pattern": {
              "fillmode": "overlay",
              "size": 10,
              "solidity": 0.2
             }
            },
            "type": "bar"
           }
          ],
          "barpolar": [
           {
            "marker": {
             "line": {
              "color": "#E5ECF6",
              "width": 0.5
             },
             "pattern": {
              "fillmode": "overlay",
              "size": 10,
              "solidity": 0.2
             }
            },
            "type": "barpolar"
           }
          ],
          "carpet": [
           {
            "aaxis": {
             "endlinecolor": "#2a3f5f",
             "gridcolor": "white",
             "linecolor": "white",
             "minorgridcolor": "white",
             "startlinecolor": "#2a3f5f"
            },
            "baxis": {
             "endlinecolor": "#2a3f5f",
             "gridcolor": "white",
             "linecolor": "white",
             "minorgridcolor": "white",
             "startlinecolor": "#2a3f5f"
            },
            "type": "carpet"
           }
          ],
          "choropleth": [
           {
            "colorbar": {
             "outlinewidth": 0,
             "ticks": ""
            },
            "type": "choropleth"
           }
          ],
          "contour": [
           {
            "colorbar": {
             "outlinewidth": 0,
             "ticks": ""
            },
            "colorscale": [
             [
              0,
              "#0d0887"
             ],
             [
              0.1111111111111111,
              "#46039f"
             ],
             [
              0.2222222222222222,
              "#7201a8"
             ],
             [
              0.3333333333333333,
              "#9c179e"
             ],
             [
              0.4444444444444444,
              "#bd3786"
             ],
             [
              0.5555555555555556,
              "#d8576b"
             ],
             [
              0.6666666666666666,
              "#ed7953"
             ],
             [
              0.7777777777777778,
              "#fb9f3a"
             ],
             [
              0.8888888888888888,
              "#fdca26"
             ],
             [
              1,
              "#f0f921"
             ]
            ],
            "type": "contour"
           }
          ],
          "contourcarpet": [
           {
            "colorbar": {
             "outlinewidth": 0,
             "ticks": ""
            },
            "type": "contourcarpet"
           }
          ],
          "heatmap": [
           {
            "colorbar": {
             "outlinewidth": 0,
             "ticks": ""
            },
            "colorscale": [
             [
              0,
              "#0d0887"
             ],
             [
              0.1111111111111111,
              "#46039f"
             ],
             [
              0.2222222222222222,
              "#7201a8"
             ],
             [
              0.3333333333333333,
              "#9c179e"
             ],
             [
              0.4444444444444444,
              "#bd3786"
             ],
             [
              0.5555555555555556,
              "#d8576b"
             ],
             [
              0.6666666666666666,
              "#ed7953"
             ],
             [
              0.7777777777777778,
              "#fb9f3a"
             ],
             [
              0.8888888888888888,
              "#fdca26"
             ],
             [
              1,
              "#f0f921"
             ]
            ],
            "type": "heatmap"
           }
          ],
          "heatmapgl": [
           {
            "colorbar": {
             "outlinewidth": 0,
             "ticks": ""
            },
            "colorscale": [
             [
              0,
              "#0d0887"
             ],
             [
              0.1111111111111111,
              "#46039f"
             ],
             [
              0.2222222222222222,
              "#7201a8"
             ],
             [
              0.3333333333333333,
              "#9c179e"
             ],
             [
              0.4444444444444444,
              "#bd3786"
             ],
             [
              0.5555555555555556,
              "#d8576b"
             ],
             [
              0.6666666666666666,
              "#ed7953"
             ],
             [
              0.7777777777777778,
              "#fb9f3a"
             ],
             [
              0.8888888888888888,
              "#fdca26"
             ],
             [
              1,
              "#f0f921"
             ]
            ],
            "type": "heatmapgl"
           }
          ],
          "histogram": [
           {
            "marker": {
             "pattern": {
              "fillmode": "overlay",
              "size": 10,
              "solidity": 0.2
             }
            },
            "type": "histogram"
           }
          ],
          "histogram2d": [
           {
            "colorbar": {
             "outlinewidth": 0,
             "ticks": ""
            },
            "colorscale": [
             [
              0,
              "#0d0887"
             ],
             [
              0.1111111111111111,
              "#46039f"
             ],
             [
              0.2222222222222222,
              "#7201a8"
             ],
             [
              0.3333333333333333,
              "#9c179e"
             ],
             [
              0.4444444444444444,
              "#bd3786"
             ],
             [
              0.5555555555555556,
              "#d8576b"
             ],
             [
              0.6666666666666666,
              "#ed7953"
             ],
             [
              0.7777777777777778,
              "#fb9f3a"
             ],
             [
              0.8888888888888888,
              "#fdca26"
             ],
             [
              1,
              "#f0f921"
             ]
            ],
            "type": "histogram2d"
           }
          ],
          "histogram2dcontour": [
           {
            "colorbar": {
             "outlinewidth": 0,
             "ticks": ""
            },
            "colorscale": [
             [
              0,
              "#0d0887"
             ],
             [
              0.1111111111111111,
              "#46039f"
             ],
             [
              0.2222222222222222,
              "#7201a8"
             ],
             [
              0.3333333333333333,
              "#9c179e"
             ],
             [
              0.4444444444444444,
              "#bd3786"
             ],
             [
              0.5555555555555556,
              "#d8576b"
             ],
             [
              0.6666666666666666,
              "#ed7953"
             ],
             [
              0.7777777777777778,
              "#fb9f3a"
             ],
             [
              0.8888888888888888,
              "#fdca26"
             ],
             [
              1,
              "#f0f921"
             ]
            ],
            "type": "histogram2dcontour"
           }
          ],
          "mesh3d": [
           {
            "colorbar": {
             "outlinewidth": 0,
             "ticks": ""
            },
            "type": "mesh3d"
           }
          ],
          "parcoords": [
           {
            "line": {
             "colorbar": {
              "outlinewidth": 0,
              "ticks": ""
             }
            },
            "type": "parcoords"
           }
          ],
          "pie": [
           {
            "automargin": true,
            "type": "pie"
           }
          ],
          "scatter": [
           {
            "marker": {
             "colorbar": {
              "outlinewidth": 0,
              "ticks": ""
             }
            },
            "type": "scatter"
           }
          ],
          "scatter3d": [
           {
            "line": {
             "colorbar": {
              "outlinewidth": 0,
              "ticks": ""
             }
            },
            "marker": {
             "colorbar": {
              "outlinewidth": 0,
              "ticks": ""
             }
            },
            "type": "scatter3d"
           }
          ],
          "scattercarpet": [
           {
            "marker": {
             "colorbar": {
              "outlinewidth": 0,
              "ticks": ""
             }
            },
            "type": "scattercarpet"
           }
          ],
          "scattergeo": [
           {
            "marker": {
             "colorbar": {
              "outlinewidth": 0,
              "ticks": ""
             }
            },
            "type": "scattergeo"
           }
          ],
          "scattergl": [
           {
            "marker": {
             "colorbar": {
              "outlinewidth": 0,
              "ticks": ""
             }
            },
            "type": "scattergl"
           }
          ],
          "scattermapbox": [
           {
            "marker": {
             "colorbar": {
              "outlinewidth": 0,
              "ticks": ""
             }
            },
            "type": "scattermapbox"
           }
          ],
          "scatterpolar": [
           {
            "marker": {
             "colorbar": {
              "outlinewidth": 0,
              "ticks": ""
             }
            },
            "type": "scatterpolar"
           }
          ],
          "scatterpolargl": [
           {
            "marker": {
             "colorbar": {
              "outlinewidth": 0,
              "ticks": ""
             }
            },
            "type": "scatterpolargl"
           }
          ],
          "scatterternary": [
           {
            "marker": {
             "colorbar": {
              "outlinewidth": 0,
              "ticks": ""
             }
            },
            "type": "scatterternary"
           }
          ],
          "surface": [
           {
            "colorbar": {
             "outlinewidth": 0,
             "ticks": ""
            },
            "colorscale": [
             [
              0,
              "#0d0887"
             ],
             [
              0.1111111111111111,
              "#46039f"
             ],
             [
              0.2222222222222222,
              "#7201a8"
             ],
             [
              0.3333333333333333,
              "#9c179e"
             ],
             [
              0.4444444444444444,
              "#bd3786"
             ],
             [
              0.5555555555555556,
              "#d8576b"
             ],
             [
              0.6666666666666666,
              "#ed7953"
             ],
             [
              0.7777777777777778,
              "#fb9f3a"
             ],
             [
              0.8888888888888888,
              "#fdca26"
             ],
             [
              1,
              "#f0f921"
             ]
            ],
            "type": "surface"
           }
          ],
          "table": [
           {
            "cells": {
             "fill": {
              "color": "#EBF0F8"
             },
             "line": {
              "color": "white"
             }
            },
            "header": {
             "fill": {
              "color": "#C8D4E3"
             },
             "line": {
              "color": "white"
             }
            },
            "type": "table"
           }
          ]
         },
         "layout": {
          "annotationdefaults": {
           "arrowcolor": "#2a3f5f",
           "arrowhead": 0,
           "arrowwidth": 1
          },
          "autotypenumbers": "strict",
          "coloraxis": {
           "colorbar": {
            "outlinewidth": 0,
            "ticks": ""
           }
          },
          "colorscale": {
           "diverging": [
            [
             0,
             "#8e0152"
            ],
            [
             0.1,
             "#c51b7d"
            ],
            [
             0.2,
             "#de77ae"
            ],
            [
             0.3,
             "#f1b6da"
            ],
            [
             0.4,
             "#fde0ef"
            ],
            [
             0.5,
             "#f7f7f7"
            ],
            [
             0.6,
             "#e6f5d0"
            ],
            [
             0.7,
             "#b8e186"
            ],
            [
             0.8,
             "#7fbc41"
            ],
            [
             0.9,
             "#4d9221"
            ],
            [
             1,
             "#276419"
            ]
           ],
           "sequential": [
            [
             0,
             "#0d0887"
            ],
            [
             0.1111111111111111,
             "#46039f"
            ],
            [
             0.2222222222222222,
             "#7201a8"
            ],
            [
             0.3333333333333333,
             "#9c179e"
            ],
            [
             0.4444444444444444,
             "#bd3786"
            ],
            [
             0.5555555555555556,
             "#d8576b"
            ],
            [
             0.6666666666666666,
             "#ed7953"
            ],
            [
             0.7777777777777778,
             "#fb9f3a"
            ],
            [
             0.8888888888888888,
             "#fdca26"
            ],
            [
             1,
             "#f0f921"
            ]
           ],
           "sequentialminus": [
            [
             0,
             "#0d0887"
            ],
            [
             0.1111111111111111,
             "#46039f"
            ],
            [
             0.2222222222222222,
             "#7201a8"
            ],
            [
             0.3333333333333333,
             "#9c179e"
            ],
            [
             0.4444444444444444,
             "#bd3786"
            ],
            [
             0.5555555555555556,
             "#d8576b"
            ],
            [
             0.6666666666666666,
             "#ed7953"
            ],
            [
             0.7777777777777778,
             "#fb9f3a"
            ],
            [
             0.8888888888888888,
             "#fdca26"
            ],
            [
             1,
             "#f0f921"
            ]
           ]
          },
          "colorway": [
           "#636efa",
           "#EF553B",
           "#00cc96",
           "#ab63fa",
           "#FFA15A",
           "#19d3f3",
           "#FF6692",
           "#B6E880",
           "#FF97FF",
           "#FECB52"
          ],
          "font": {
           "color": "#2a3f5f"
          },
          "geo": {
           "bgcolor": "white",
           "lakecolor": "white",
           "landcolor": "#E5ECF6",
           "showlakes": true,
           "showland": true,
           "subunitcolor": "white"
          },
          "hoverlabel": {
           "align": "left"
          },
          "hovermode": "closest",
          "mapbox": {
           "style": "light"
          },
          "paper_bgcolor": "white",
          "plot_bgcolor": "#E5ECF6",
          "polar": {
           "angularaxis": {
            "gridcolor": "white",
            "linecolor": "white",
            "ticks": ""
           },
           "bgcolor": "#E5ECF6",
           "radialaxis": {
            "gridcolor": "white",
            "linecolor": "white",
            "ticks": ""
           }
          },
          "scene": {
           "xaxis": {
            "backgroundcolor": "#E5ECF6",
            "gridcolor": "white",
            "gridwidth": 2,
            "linecolor": "white",
            "showbackground": true,
            "ticks": "",
            "zerolinecolor": "white"
           },
           "yaxis": {
            "backgroundcolor": "#E5ECF6",
            "gridcolor": "white",
            "gridwidth": 2,
            "linecolor": "white",
            "showbackground": true,
            "ticks": "",
            "zerolinecolor": "white"
           },
           "zaxis": {
            "backgroundcolor": "#E5ECF6",
            "gridcolor": "white",
            "gridwidth": 2,
            "linecolor": "white",
            "showbackground": true,
            "ticks": "",
            "zerolinecolor": "white"
           }
          },
          "shapedefaults": {
           "line": {
            "color": "#2a3f5f"
           }
          },
          "ternary": {
           "aaxis": {
            "gridcolor": "white",
            "linecolor": "white",
            "ticks": ""
           },
           "baxis": {
            "gridcolor": "white",
            "linecolor": "white",
            "ticks": ""
           },
           "bgcolor": "#E5ECF6",
           "caxis": {
            "gridcolor": "white",
            "linecolor": "white",
            "ticks": ""
           }
          },
          "title": {
           "x": 0.05
          },
          "xaxis": {
           "automargin": true,
           "gridcolor": "white",
           "linecolor": "white",
           "ticks": "",
           "title": {
            "standoff": 15
           },
           "zerolinecolor": "white",
           "zerolinewidth": 2
          },
          "yaxis": {
           "automargin": true,
           "gridcolor": "white",
           "linecolor": "white",
           "ticks": "",
           "title": {
            "standoff": 15
           },
           "zerolinecolor": "white",
           "zerolinewidth": 2
          }
         }
        },
        "title": {
         "text": "Performance Test vs Control on aggregate level"
        },
        "xaxis": {
         "anchor": "y",
         "autorange": true,
         "domain": [
          0,
          1
         ],
         "range": [
          0,
          15
         ],
         "title": {
          "text": "Time(Week)"
         },
         "type": "category"
        },
        "yaxis": {
         "anchor": "x",
         "autorange": true,
         "domain": [
          0,
          1
         ],
         "range": [
          245.18128854066333,
          309.4555177273966
         ],
         "title": {
          "text": "value"
         },
         "type": "linear"
        }
       }
      },
      "image/png": "[encoded data removed]",
      "text/html": [
       "<div>                            <div id=\"42349c39-3f07-4087-81eb-d76e1282d0ff\" class=\"plotly-graph-div\" style=\"height:525px; width:100%;\"></div>            <script type=\"text/javascript\">                require([\"plotly\"], function(Plotly) {                    window.PLOTLYENV=window.PLOTLYENV || {};                                    if (document.getElementById(\"42349c39-3f07-4087-81eb-d76e1282d0ff\")) {                    Plotly.newPlot(                        \"42349c39-3f07-4087-81eb-d76e1282d0ff\",                        [{\"hovertemplate\":\"variable=C<br>Time(Week)=%{x}<br>value=%{y}<extra></extra>\",\"legendgroup\":\"C\",\"line\":{\"color\":\"#636efa\",\"dash\":\"solid\"},\"marker\":{\"symbol\":\"circle\"},\"mode\":\"lines\",\"name\":\"C\",\"orientation\":\"v\",\"showlegend\":true,\"x\":[\"t-5\",\"t-4\",\"t-3\",\"t-2\",\"t-1\",\"t\",\"t+1\",\"t+2\",\"t+3\",\"t+4\",\"t+5\",\"t+6\",\"t+7\",\"t+8\",\"t+9\",\"t+10\"],\"xaxis\":\"x\",\"y\":[251.245,252.166,248.395,250.602,250.38766666769,249.79488888958,250.26151851863,250.14802469294,250.06814403152,250.15922908028,250.12513260204,250.11750190542,250.13395452912002,250.12552967923,250.12566203669,250.1283820797],\"yaxis\":\"y\",\"type\":\"scatter\"},{\"hovertemplate\":\"variable=T<br>Time(Week)=%{x}<br>value=%{y}<extra></extra>\",\"legendgroup\":\"T\",\"line\":{\"color\":\"#EF553B\",\"dash\":\"solid\"},\"marker\":{\"symbol\":\"circle\"},\"mode\":\"lines\",\"name\":\"T\",\"orientation\":\"v\",\"showlegend\":true,\"x\":[\"t-5\",\"t-4\",\"t-3\",\"t-2\",\"t-1\",\"t\",\"t+1\",\"t+2\",\"t+3\",\"t+4\",\"t+5\",\"t+6\",\"t+7\",\"t+8\",\"t+9\",\"t+10\"],\"xaxis\":\"x\",\"y\":[251.17558,252.23162,248.49662,250.58479999870002,250.19396555604,259.70677185223997,265.2284114811,270.20793304715005,276.25081961404004,290.34420935445,306.24180626806,294.12532154427,281.06587419873,271.25696997619,265.83183057796,260.51519396443],\"yaxis\":\"y\",\"type\":\"scatter\"}],                        {\"template\":{\"data\":{\"bar\":[{\"error_x\":{\"color\":\"#2a3f5f\"},\"error_y\":{\"color\":\"#2a3f5f\"},\"marker\":{\"line\":{\"color\":\"#E5ECF6\",\"width\":0.5},\"pattern\":{\"fillmode\":\"overlay\",\"size\":10,\"solidity\":0.2}},\"type\":\"bar\"}],\"barpolar\":[{\"marker\":{\"line\":{\"color\":\"#E5ECF6\",\"width\":0.5},\"pattern\":{\"fillmode\":\"overlay\",\"size\":10,\"solidity\":0.2}},\"type\":\"barpolar\"}],\"carpet\":[{\"aaxis\":{\"endlinecolor\":\"#2a3f5f\",\"gridcolor\":\"white\",\"linecolor\":\"white\",\"minorgridcolor\":\"white\",\"startlinecolor\":\"#2a3f5f\"},\"baxis\":{\"endlinecolor\":\"#2a3f5f\",\"gridcolor\":\"white\",\"linecolor\":\"white\",\"minorgridcolor\":\"white\",\"startlinecolor\":\"#2a3f5f\"},\"type\":\"carpet\"}],\"choropleth\":[{\"colorbar\":{\"outlinewidth\":0,\"ticks\":\"\"},\"type\":\"choropleth\"}],\"contour\":[{\"colorbar\":{\"outlinewidth\":0,\"ticks\":\"\"},\"colorscale\":[[0.0,\"#0d0887\"],[0.1111111111111111,\"#46039f\"],[0.2222222222222222,\"#7201a8\"],[0.3333333333333333,\"#9c179e\"],[0.4444444444444444,\"#bd3786\"],[0.5555555555555556,\"#d8576b\"],[0.6666666666666666,\"#ed7953\"],[0.7777777777777778,\"#fb9f3a\"],[0.8888888888888888,\"#fdca26\"],[1.0,\"#f0f921\"]],\"type\":\"contour\"}],\"contourcarpet\":[{\"colorbar\":{\"outlinewidth\":0,\"ticks\":\"\"},\"type\":\"contourcarpet\"}],\"heatmap\":[{\"colorbar\":{\"outlinewidth\":0,\"ticks\":\"\"},\"colorscale\":[[0.0,\"#0d0887\"],[0.1111111111111111,\"#46039f\"],[0.2222222222222222,\"#7201a8\"],[0.3333333333333333,\"#9c179e\"],[0.4444444444444444,\"#bd3786\"],[0.5555555555555556,\"#d8576b\"],[0.6666666666666666,\"#ed7953\"],[0.7777777777777778,\"#fb9f3a\"],[0.8888888888888888,\"#fdca26\"],[1.0,\"#f0f921\"]],\"type\":\"heatmap\"}],\"heatmapgl\":[{\"colorbar\":{\"outlinewidth\":0,\"ticks\":\"\"},\"colorscale\":[[0.0,\"#0d0887\"],[0.1111111111111111,\"#46039f\"],[0.2222222222222222,\"#7201a8\"],[0.3333333333333333,\"#9c179e\"],[0.4444444444444444,\"#bd3786\"],[0.5555555555555556,\"#d8576b\"],[0.6666666666666666,\"#ed7953\"],[0.7777777777777778,\"#fb9f3a\"],[0.8888888888888888,\"#fdca26\"],[1.0,\"#f0f921\"]],\"type\":\"heatmapgl\"}],\"histogram\":[{\"marker\":{\"pattern\":{\"fillmode\":\"overlay\",\"size\":10,\"solidity\":0.2}},\"type\":\"histogram\"}],\"histogram2d\":[{\"colorbar\":{\"outlinewidth\":0,\"ticks\":\"\"},\"colorscale\":[[0.0,\"#0d0887\"],[0.1111111111111111,\"#46039f\"],[0.2222222222222222,\"#7201a8\"],[0.3333333333333333,\"#9c179e\"],[0.4444444444444444,\"#bd3786\"],[0.5555555555555556,\"#d8576b\"],[0.6666666666666666,\"#ed7953\"],[0.7777777777777778,\"#fb9f3a\"],[0.8888888888888888,\"#fdca26\"],[1.0,\"#f0f921\"]],\"type\":\"histogram2d\"}],\"histogram2dcontour\":[{\"colorbar\":{\"outlinewidth\":0,\"ticks\":\"\"},\"colorscale\":[[0.0,\"#0d0887\"],[0.1111111111111111,\"#46039f\"],[0.2222222222222222,\"#7201a8\"],[0.3333333333333333,\"#9c179e\"],[0.4444444444444444,\"#bd3786\"],[0.5555555555555556,\"#d8576b\"],[0.6666666666666666,\"#ed7953\"],[0.7777777777777778,\"#fb9f3a\"],[0.8888888888888888,\"#fdca26\"],[1.0,\"#f0f921\"]],\"type\":\"histogram2dcontour\"}],\"mesh3d\":[{\"colorbar\":{\"outlinewidth\":0,\"ticks\":\"\"},\"type\":\"mesh3d\"}],\"parcoords\":[{\"line\":{\"colorbar\":{\"outlinewidth\":0,\"ticks\":\"\"}},\"type\":\"parcoords\"}],\"pie\":[{\"automargin\":true,\"type\":\"pie\"}],\"scatter\":[{\"marker\":{\"colorbar\":{\"outlinewidth\":0,\"ticks\":\"\"}},\"type\":\"scatter\"}],\"scatter3d\":[{\"line\":{\"colorbar\":{\"outlinewidth\":0,\"ticks\":\"\"}},\"marker\":{\"colorbar\":{\"outlinewidth\":0,\"ticks\":\"\"}},\"type\":\"scatter3d\"}],\"scattercarpet\":[{\"marker\":{\"colorbar\":{\"outlinewidth\":0,\"ticks\":\"\"}},\"type\":\"scattercarpet\"}],\"scattergeo\":[{\"marker\":{\"colorbar\":{\"outlinewidth\":0,\"ticks\":\"\"}},\"type\":\"scattergeo\"}],\"scattergl\":[{\"marker\":{\"colorbar\":{\"outlinewidth\":0,\"ticks\":\"\"}},\"type\":\"scattergl\"}],\"scattermapbox\":[{\"marker\":{\"colorbar\":{\"outlinewidth\":0,\"ticks\":\"\"}},\"type\":\"scattermapbox\"}],\"scatterpolar\":[{\"marker\":{\"colorbar\":{\"outlinewidth\":0,\"ticks\":\"\"}},\"type\":\"scatterpolar\"}],\"scatterpolargl\":[{\"marker\":{\"colorbar\":{\"outlinewidth\":0,\"ticks\":\"\"}},\"type\":\"scatterpolargl\"}],\"scatterternary\":[{\"marker\":{\"colorbar\":{\"outlinewidth\":0,\"ticks\":\"\"}},\"type\":\"scatterternary\"}],\"surface\":[{\"colorbar\":{\"outlinewidth\":0,\"ticks\":\"\"},\"colorscale\":[[0.0,\"#0d0887\"],[0.1111111111111111,\"#46039f\"],[0.2222222222222222,\"#7201a8\"],[0.3333333333333333,\"#9c179e\"],[0.4444444444444444,\"#bd3786\"],[0.5555555555555556,\"#d8576b\"],[0.6666666666666666,\"#ed7953\"],[0.7777777777777778,\"#fb9f3a\"],[0.8888888888888888,\"#fdca26\"],[1.0,\"#f0f921\"]],\"type\":\"surface\"}],\"table\":[{\"cells\":{\"fill\":{\"color\":\"#EBF0F8\"},\"line\":{\"color\":\"white\"}},\"header\":{\"fill\":{\"color\":\"#C8D4E3\"},\"line\":{\"color\":\"white\"}},\"type\":\"table\"}]},\"layout\":{\"annotationdefaults\":{\"arrowcolor\":\"#2a3f5f\",\"arrowhead\":0,\"arrowwidth\":1},\"autotypenumbers\":\"strict\",\"coloraxis\":{\"colorbar\":{\"outlinewidth\":0,\"ticks\":\"\"}},\"colorscale\":{\"diverging\":[[0,\"#8e0152\"],[0.1,\"#c51b7d\"],[0.2,\"#de77ae\"],[0.3,\"#f1b6da\"],[0.4,\"#fde0ef\"],[0.5,\"#f7f7f7\"],[0.6,\"#e6f5d0\"],[0.7,\"#b8e186\"],[0.8,\"#7fbc41\"],[0.9,\"#4d9221\"],[1,\"#276419\"]],\"sequential\":[[0.0,\"#0d0887\"],[0.1111111111111111,\"#46039f\"],[0.2222222222222222,\"#7201a8\"],[0.3333333333333333,\"#9c179e\"],[0.4444444444444444,\"#bd3786\"],[0.5555555555555556,\"#d8576b\"],[0.6666666666666666,\"#ed7953\"],[0.7777777777777778,\"#fb9f3a\"],[0.8888888888888888,\"#fdca26\"],[1.0,\"#f0f921\"]],\"sequentialminus\":[[0.0,\"#0d0887\"],[0.1111111111111111,\"#46039f\"],[0.2222222222222222,\"#7201a8\"],[0.3333333333333333,\"#9c179e\"],[0.4444444444444444,\"#bd3786\"],[0.5555555555555556,\"#d8576b\"],[0.6666666666666666,\"#ed7953\"],[0.7777777777777778,\"#fb9f3a\"],[0.8888888888888888,\"#fdca26\"],[1.0,\"#f0f921\"]]},\"colorway\":[\"#636efa\",\"#EF553B\",\"#00cc96\",\"#ab63fa\",\"#FFA15A\",\"#19d3f3\",\"#FF6692\",\"#B6E880\",\"#FF97FF\",\"#FECB52\"],\"font\":{\"color\":\"#2a3f5f\"},\"geo\":{\"bgcolor\":\"white\",\"lakecolor\":\"white\",\"landcolor\":\"#E5ECF6\",\"showlakes\":true,\"showland\":true,\"subunitcolor\":\"white\"},\"hoverlabel\":{\"align\":\"left\"},\"hovermode\":\"closest\",\"mapbox\":{\"style\":\"light\"},\"paper_bgcolor\":\"white\",\"plot_bgcolor\":\"#E5ECF6\",\"polar\":{\"angularaxis\":{\"gridcolor\":\"white\",\"linecolor\":\"white\",\"ticks\":\"\"},\"bgcolor\":\"#E5ECF6\",\"radialaxis\":{\"gridcolor\":\"white\",\"linecolor\":\"white\",\"ticks\":\"\"}},\"scene\":{\"xaxis\":{\"backgroundcolor\":\"#E5ECF6\",\"gridcolor\":\"white\",\"gridwidth\":2,\"linecolor\":\"white\",\"showbackground\":true,\"ticks\":\"\",\"zerolinecolor\":\"white\"},\"yaxis\":{\"backgroundcolor\":\"#E5ECF6\",\"gridcolor\":\"white\",\"gridwidth\":2,\"linecolor\":\"white\",\"showbackground\":true,\"ticks\":\"\",\"zerolinecolor\":\"white\"},\"zaxis\":{\"backgroundcolor\":\"#E5ECF6\",\"gridcolor\":\"white\",\"gridwidth\":2,\"linecolor\":\"white\",\"showbackground\":true,\"ticks\":\"\",\"zerolinecolor\":\"white\"}},\"shapedefaults\":{\"line\":{\"color\":\"#2a3f5f\"}},\"ternary\":{\"aaxis\":{\"gridcolor\":\"white\",\"linecolor\":\"white\",\"ticks\":\"\"},\"baxis\":{\"gridcolor\":\"white\",\"linecolor\":\"white\",\"ticks\":\"\"},\"bgcolor\":\"#E5ECF6\",\"caxis\":{\"gridcolor\":\"white\",\"linecolor\":\"white\",\"ticks\":\"\"}},\"title\":{\"x\":0.05},\"xaxis\":{\"automargin\":true,\"gridcolor\":\"white\",\"linecolor\":\"white\",\"ticks\":\"\",\"title\":{\"standoff\":15},\"zerolinecolor\":\"white\",\"zerolinewidth\":2},\"yaxis\":{\"automargin\":true,\"gridcolor\":\"white\",\"linecolor\":\"white\",\"ticks\":\"\",\"title\":{\"standoff\":15},\"zerolinecolor\":\"white\",\"zerolinewidth\":2}}},\"xaxis\":{\"anchor\":\"y\",\"domain\":[0.0,1.0],\"title\":{\"text\":\"Time(Week)\"}},\"yaxis\":{\"anchor\":\"x\",\"domain\":[0.0,1.0],\"title\":{\"text\":\"value\"}},\"legend\":{\"title\":{\"text\":\"variable\"},\"tracegroupgap\":0},\"title\":{\"text\":\"Performance Test vs Control on aggregate level\"}},                        {\"responsive\": true}                    ).then(function(){\n",
       "                            \n",
       "var gd = document.getElementById('42349c39-3f07-4087-81eb-d76e1282d0ff');\n",
       "var x = new MutationObserver(function (mutations, observer) {{\n",
       "        var display = window.getComputedStyle(gd).display;\n",
       "        if (!display || display === 'none') {{\n",
       "            console.log([gd, 'removed!']);\n",
       "            Plotly.purge(gd);\n",
       "            observer.disconnect();\n",
       "        }}\n",
       "}});\n",
       "\n",
       "// Listen for the removal of the full notebook cells\n",
       "var notebookContainer = gd.closest('#notebook-container');\n",
       "if (notebookContainer) {{\n",
       "    x.observe(notebookContainer, {childList: true});\n",
       "}}\n",
       "\n",
       "// Listen for the clearing of the current output cell\n",
       "var outputEl = gd.closest('.output');\n",
       "if (outputEl) {{\n",
       "    x.observe(outputEl, {childList: true});\n",
       "}}\n",
       "\n",
       "                        })                };                });            </script>        </div>"
      ]
     },
     "metadata": {},
     "output_type": "display_data"
    }
   ],
   "source": [
    "import plotly.express as px\n",
    "# df = px.data.stocks()\n",
    "fig = px.line(df3, x=\"Time(Week)\", y=df3.columns[:-1],title='Performance Test vs Control on aggregate level')\n",
    "# yaxis=dict(\n",
    "#         title=\"Y label\"\n",
    "# fig.update_xaxes(\n",
    "#     dtick=\"M1\",\n",
    "#     tickformat=\"%b\\n%Y\")\n",
    "fig.show()"
   ]
  },
  {
   "cell_type": "code",
   "execution_count": 25,
   "id": "c89e35b2-5e36-4465-8543-f8716072e04a",
   "metadata": {},
   "outputs": [],
   "source": [
    "fig.write_html(\"templates/graph_evaluate.html\")"
   ]
  },
  {
   "cell_type": "markdown",
   "id": "90cadde8",
   "metadata": {},
   "source": [
    "## Calculate KPIs"
   ]
  },
  {
   "cell_type": "code",
   "execution_count": 26,
   "id": "a83bd638",
   "metadata": {},
   "outputs": [
    {
     "data": {
      "text/html": [
       "<div>\n",
       "<style scoped>\n",
       "    .dataframe tbody tr th:only-of-type {\n",
       "        vertical-align: middle;\n",
       "    }\n",
       "\n",
       "    .dataframe tbody tr th {\n",
       "        vertical-align: top;\n",
       "    }\n",
       "\n",
       "    .dataframe thead th {\n",
       "        text-align: right;\n",
       "    }\n",
       "</style>\n",
       "<table border=\"1\" class=\"dataframe\">\n",
       "  <thead>\n",
       "    <tr style=\"text-align: right;\">\n",
       "      <th>flag</th>\n",
       "      <th>C</th>\n",
       "      <th>T</th>\n",
       "      <th>flag</th>\n",
       "      <th>uplift</th>\n",
       "    </tr>\n",
       "  </thead>\n",
       "  <tbody>\n",
       "    <tr>\n",
       "      <th>t-5</th>\n",
       "      <td>251.245000</td>\n",
       "      <td>251.175580</td>\n",
       "      <td>t-5</td>\n",
       "      <td>-0.069420</td>\n",
       "    </tr>\n",
       "    <tr>\n",
       "      <th>t-4</th>\n",
       "      <td>252.166000</td>\n",
       "      <td>252.231620</td>\n",
       "      <td>t-4</td>\n",
       "      <td>0.065620</td>\n",
       "    </tr>\n",
       "    <tr>\n",
       "      <th>t-3</th>\n",
       "      <td>248.395000</td>\n",
       "      <td>248.496620</td>\n",
       "      <td>t-3</td>\n",
       "      <td>0.101620</td>\n",
       "    </tr>\n",
       "    <tr>\n",
       "      <th>t-2</th>\n",
       "      <td>250.602000</td>\n",
       "      <td>250.584800</td>\n",
       "      <td>t-2</td>\n",
       "      <td>-0.017200</td>\n",
       "    </tr>\n",
       "    <tr>\n",
       "      <th>t-1</th>\n",
       "      <td>250.387667</td>\n",
       "      <td>250.193966</td>\n",
       "      <td>t-1</td>\n",
       "      <td>-0.193701</td>\n",
       "    </tr>\n",
       "    <tr>\n",
       "      <th>t</th>\n",
       "      <td>249.794889</td>\n",
       "      <td>259.706772</td>\n",
       "      <td>t</td>\n",
       "      <td>9.911883</td>\n",
       "    </tr>\n",
       "    <tr>\n",
       "      <th>t+1</th>\n",
       "      <td>250.261519</td>\n",
       "      <td>265.228411</td>\n",
       "      <td>t+1</td>\n",
       "      <td>14.966893</td>\n",
       "    </tr>\n",
       "    <tr>\n",
       "      <th>t+2</th>\n",
       "      <td>250.148025</td>\n",
       "      <td>270.207933</td>\n",
       "      <td>t+2</td>\n",
       "      <td>20.059908</td>\n",
       "    </tr>\n",
       "    <tr>\n",
       "      <th>t+3</th>\n",
       "      <td>250.068144</td>\n",
       "      <td>276.250820</td>\n",
       "      <td>t+3</td>\n",
       "      <td>26.182676</td>\n",
       "    </tr>\n",
       "    <tr>\n",
       "      <th>t+4</th>\n",
       "      <td>250.159229</td>\n",
       "      <td>290.344209</td>\n",
       "      <td>t+4</td>\n",
       "      <td>40.184980</td>\n",
       "    </tr>\n",
       "    <tr>\n",
       "      <th>t+5</th>\n",
       "      <td>250.125133</td>\n",
       "      <td>306.241806</td>\n",
       "      <td>t+5</td>\n",
       "      <td>56.116674</td>\n",
       "    </tr>\n",
       "    <tr>\n",
       "      <th>t+6</th>\n",
       "      <td>250.117502</td>\n",
       "      <td>294.125322</td>\n",
       "      <td>t+6</td>\n",
       "      <td>44.007820</td>\n",
       "    </tr>\n",
       "    <tr>\n",
       "      <th>t+7</th>\n",
       "      <td>250.133955</td>\n",
       "      <td>281.065874</td>\n",
       "      <td>t+7</td>\n",
       "      <td>30.931920</td>\n",
       "    </tr>\n",
       "    <tr>\n",
       "      <th>t+8</th>\n",
       "      <td>250.125530</td>\n",
       "      <td>271.256970</td>\n",
       "      <td>t+8</td>\n",
       "      <td>21.131440</td>\n",
       "    </tr>\n",
       "    <tr>\n",
       "      <th>t+9</th>\n",
       "      <td>250.125662</td>\n",
       "      <td>265.831831</td>\n",
       "      <td>t+9</td>\n",
       "      <td>15.706169</td>\n",
       "    </tr>\n",
       "    <tr>\n",
       "      <th>t+10</th>\n",
       "      <td>250.128382</td>\n",
       "      <td>260.515194</td>\n",
       "      <td>t+10</td>\n",
       "      <td>10.386812</td>\n",
       "    </tr>\n",
       "  </tbody>\n",
       "</table>\n",
       "</div>"
      ],
      "text/plain": [
       "flag           C           T  flag     uplift\n",
       "t-5   251.245000  251.175580   t-5  -0.069420\n",
       "t-4   252.166000  252.231620   t-4   0.065620\n",
       "t-3   248.395000  248.496620   t-3   0.101620\n",
       "t-2   250.602000  250.584800   t-2  -0.017200\n",
       "t-1   250.387667  250.193966   t-1  -0.193701\n",
       "t     249.794889  259.706772     t   9.911883\n",
       "t+1   250.261519  265.228411   t+1  14.966893\n",
       "t+2   250.148025  270.207933   t+2  20.059908\n",
       "t+3   250.068144  276.250820   t+3  26.182676\n",
       "t+4   250.159229  290.344209   t+4  40.184980\n",
       "t+5   250.125133  306.241806   t+5  56.116674\n",
       "t+6   250.117502  294.125322   t+6  44.007820\n",
       "t+7   250.133955  281.065874   t+7  30.931920\n",
       "t+8   250.125530  271.256970   t+8  21.131440\n",
       "t+9   250.125662  265.831831   t+9  15.706169\n",
       "t+10  250.128382  260.515194  t+10  10.386812"
      ]
     },
     "execution_count": 26,
     "metadata": {},
     "output_type": "execute_result"
    }
   ],
   "source": [
    "df3['uplift']=df3['T']-df3['C']\n",
    "df3"
   ]
  },
  {
   "cell_type": "markdown",
   "id": "3650a57f",
   "metadata": {},
   "source": [
    "## Define period of evaluation"
   ]
  },
  {
   "cell_type": "code",
   "execution_count": 27,
   "id": "fe4c61b9",
   "metadata": {},
   "outputs": [],
   "source": [
    "## define period of evaluation\n",
    "# period=int(input('enter campaign evaluation period:'))"
   ]
  },
  {
   "cell_type": "code",
   "execution_count": 28,
   "id": "168607de",
   "metadata": {},
   "outputs": [
    {
     "data": {
      "text/html": [
       "<div>\n",
       "<style scoped>\n",
       "    .dataframe tbody tr th:only-of-type {\n",
       "        vertical-align: middle;\n",
       "    }\n",
       "\n",
       "    .dataframe tbody tr th {\n",
       "        vertical-align: top;\n",
       "    }\n",
       "\n",
       "    .dataframe thead th {\n",
       "        text-align: right;\n",
       "    }\n",
       "</style>\n",
       "<table border=\"1\" class=\"dataframe\">\n",
       "  <thead>\n",
       "    <tr style=\"text-align: right;\">\n",
       "      <th>flag</th>\n",
       "      <th>C</th>\n",
       "      <th>T</th>\n",
       "      <th>flag</th>\n",
       "      <th>uplift</th>\n",
       "    </tr>\n",
       "  </thead>\n",
       "  <tbody>\n",
       "    <tr>\n",
       "      <th>t</th>\n",
       "      <td>249.794889</td>\n",
       "      <td>259.706772</td>\n",
       "      <td>t</td>\n",
       "      <td>9.911883</td>\n",
       "    </tr>\n",
       "    <tr>\n",
       "      <th>t+1</th>\n",
       "      <td>250.261519</td>\n",
       "      <td>265.228411</td>\n",
       "      <td>t+1</td>\n",
       "      <td>14.966893</td>\n",
       "    </tr>\n",
       "    <tr>\n",
       "      <th>t+2</th>\n",
       "      <td>250.148025</td>\n",
       "      <td>270.207933</td>\n",
       "      <td>t+2</td>\n",
       "      <td>20.059908</td>\n",
       "    </tr>\n",
       "    <tr>\n",
       "      <th>t+3</th>\n",
       "      <td>250.068144</td>\n",
       "      <td>276.250820</td>\n",
       "      <td>t+3</td>\n",
       "      <td>26.182676</td>\n",
       "    </tr>\n",
       "    <tr>\n",
       "      <th>t+4</th>\n",
       "      <td>250.159229</td>\n",
       "      <td>290.344209</td>\n",
       "      <td>t+4</td>\n",
       "      <td>40.184980</td>\n",
       "    </tr>\n",
       "    <tr>\n",
       "      <th>t+5</th>\n",
       "      <td>250.125133</td>\n",
       "      <td>306.241806</td>\n",
       "      <td>t+5</td>\n",
       "      <td>56.116674</td>\n",
       "    </tr>\n",
       "  </tbody>\n",
       "</table>\n",
       "</div>"
      ],
      "text/plain": [
       "flag           C           T flag     uplift\n",
       "t     249.794889  259.706772    t   9.911883\n",
       "t+1   250.261519  265.228411  t+1  14.966893\n",
       "t+2   250.148025  270.207933  t+2  20.059908\n",
       "t+3   250.068144  276.250820  t+3  26.182676\n",
       "t+4   250.159229  290.344209  t+4  40.184980\n",
       "t+5   250.125133  306.241806  t+5  56.116674"
      ]
     },
     "execution_count": 28,
     "metadata": {},
     "output_type": "execute_result"
    }
   ],
   "source": [
    "df4=df3.loc['t':]\n",
    "df5=df4.iloc[:period]\n",
    "df5"
   ]
  },
  {
   "cell_type": "code",
   "execution_count": 29,
   "id": "681aca70",
   "metadata": {},
   "outputs": [],
   "source": [
    "kpi=pd.DataFrame([(df5['uplift'].sum())],columns=['Uplift per customer'])\n",
    "kpi['#customers in campaign']=len(test_cnt)\n",
    "kpi['Total uplift']=(df5['uplift'].sum())*len(test_cnt)"
   ]
  },
  {
   "cell_type": "code",
   "execution_count": 30,
   "id": "5332cefe-24cd-42d8-8fbf-9ca4ad92c0d0",
   "metadata": {},
   "outputs": [
    {
     "data": {
      "text/html": [
       "<div>\n",
       "<style scoped>\n",
       "    .dataframe tbody tr th:only-of-type {\n",
       "        vertical-align: middle;\n",
       "    }\n",
       "\n",
       "    .dataframe tbody tr th {\n",
       "        vertical-align: top;\n",
       "    }\n",
       "\n",
       "    .dataframe thead th {\n",
       "        text-align: right;\n",
       "    }\n",
       "</style>\n",
       "<table border=\"1\" class=\"dataframe\">\n",
       "  <thead>\n",
       "    <tr style=\"text-align: right;\">\n",
       "      <th></th>\n",
       "      <th>Uplift per customer</th>\n",
       "      <th>#customers in campaign</th>\n",
       "      <th>Total uplift</th>\n",
       "    </tr>\n",
       "  </thead>\n",
       "  <tbody>\n",
       "    <tr>\n",
       "      <th>0</th>\n",
       "      <td>167.423014</td>\n",
       "      <td>1000</td>\n",
       "      <td>167423.013802</td>\n",
       "    </tr>\n",
       "  </tbody>\n",
       "</table>\n",
       "</div>"
      ],
      "text/plain": [
       "   Uplift per customer  #customers in campaign   Total uplift\n",
       "0           167.423014                    1000  167423.013802"
      ]
     },
     "execution_count": 30,
     "metadata": {},
     "output_type": "execute_result"
    }
   ],
   "source": [
    "kpi"
   ]
  },
  {
   "cell_type": "markdown",
   "id": "9b87775e",
   "metadata": {},
   "source": [
    "## Enter Cost of campaign"
   ]
  },
  {
   "cell_type": "code",
   "execution_count": 31,
   "id": "918965da",
   "metadata": {},
   "outputs": [],
   "source": [
    "# cost=int(input('enter cost of campaign:'))"
   ]
  },
  {
   "cell_type": "code",
   "execution_count": 32,
   "id": "31bdb8b5",
   "metadata": {},
   "outputs": [],
   "source": [
    "kpi['campaign cost']=cost\n",
    "kpi['ROI']=kpi['Total uplift']/cost\n",
    "kpi['performance window']=str(period )+' weeks'"
   ]
  },
  {
   "cell_type": "code",
   "execution_count": null,
   "id": "e4514143",
   "metadata": {},
   "outputs": [],
   "source": [
    "# kpi.drop(['#customers in campaign'], axis=1, inplace=True)\n",
    "kpi.iloc[0]\n"
   ]
  },
  {
   "cell_type": "code",
   "execution_count": null,
   "id": "b0058b83-f3e3-4cf0-bc47-78c6d7d33561",
   "metadata": {},
   "outputs": [],
   "source": [
    "import json"
   ]
  },
  {
   "cell_type": "code",
   "execution_count": null,
   "id": "85bb240e-b600-43fc-9590-7b93deb0e220",
   "metadata": {},
   "outputs": [],
   "source": [
    "data = dict()"
   ]
  },
  {
   "cell_type": "code",
   "execution_count": null,
   "id": "fdfcd916-5a3f-458e-9bb8-f91add05f608",
   "metadata": {},
   "outputs": [],
   "source": [
    "data['uplift_value'] = str(kpi['Uplift per customer'][0])"
   ]
  },
  {
   "cell_type": "code",
   "execution_count": null,
   "id": "6f72bf89-75ea-4265-9fe3-6d0476213b18",
   "metadata": {},
   "outputs": [],
   "source": [
    "data['scr_value'] = str(kpi['ROI'][0])"
   ]
  },
  {
   "cell_type": "code",
   "execution_count": null,
   "id": "ced60d3d-2319-4afb-a516-98761de1227f",
   "metadata": {},
   "outputs": [],
   "source": [
    "data['total_uplift_value'] = str(kpi['Total uplift'][0])"
   ]
  },
  {
   "cell_type": "code",
   "execution_count": null,
   "id": "28ea80b2-31bf-49d8-9bc2-1e8060450ed2",
   "metadata": {},
   "outputs": [],
   "source": [
    "data['campaign_cost_value'] = str(kpi['campaign cost'][0])"
   ]
  },
  {
   "cell_type": "code",
   "execution_count": null,
   "id": "9fe5f202-986f-4e64-9f72-0aa7e3490629",
   "metadata": {},
   "outputs": [],
   "source": [
    "data['performance_wind_value'] = str(kpi['performance window'][0].split()[0])"
   ]
  },
  {
   "cell_type": "code",
   "execution_count": null,
   "id": "1754bde0-0d56-4386-a4d7-9815504d8275",
   "metadata": {},
   "outputs": [],
   "source": [
    "print(data)"
   ]
  },
  {
   "cell_type": "code",
   "execution_count": null,
   "id": "cb95dc71-4df9-4a3d-bb9a-f2b131465160",
   "metadata": {},
   "outputs": [],
   "source": [
    "for value in data:\n",
    "    print(type(data[value]))"
   ]
  },
  {
   "cell_type": "code",
   "execution_count": null,
   "id": "56fb3d5c-4dc0-4868-9ca5-e6878229f9bc",
   "metadata": {},
   "outputs": [],
   "source": [
    "f = open ('file.txt','w')\n",
    "f.write(json.dumps(data))\n",
    "f.close()"
   ]
  },
  {
   "cell_type": "code",
   "execution_count": null,
   "id": "5f42e3f0-a85d-4c2a-9bf4-4cbc5b0f8ec9",
   "metadata": {},
   "outputs": [],
   "source": []
  }
 ],
 "metadata": {
  "kernelspec": {
   "display_name": "Python 3 (ipykernel)",
   "language": "python",
   "name": "python3"
  },
  "language_info": {
   "codemirror_mode": {
    "name": "ipython",
    "version": 3
   },
   "file_extension": ".py",
   "mimetype": "text/x-python",
   "name": "python",
   "nbconvert_exporter": "python",
   "pygments_lexer": "ipython3",
   "version": "3.9.5"
  }
 },
 "nbformat": 4,
 "nbformat_minor": 5
}
